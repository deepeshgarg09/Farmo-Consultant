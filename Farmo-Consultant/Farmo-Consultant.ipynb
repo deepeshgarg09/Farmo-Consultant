{
  "nbformat": 4,
  "nbformat_minor": 0,
  "metadata": {
    "colab": {
      "name": "Minor Project-Main",
      "provenance": [],
      "collapsed_sections": []
    },
    "kernelspec": {
      "name": "python3",
      "display_name": "Python 3"
    },
    "accelerator": "GPU"
  },
  "cells": [
    {
      "cell_type": "code",
      "metadata": {
        "colab": {
          "resources": {
            "http://localhost:8080/nbextensions/google.colab/files.js": {
              "data": "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",
              "ok": true,
              "headers": [
                [
                  "content-type",
                  "application/javascript"
                ]
              ],
              "status": 200,
              "status_text": ""
            }
          },
          "base_uri": "https://localhost:8080/",
          "height": 73
        },
        "id": "xyX1tg2WVH-k",
        "outputId": "d3a11f89-22cb-489f-b99c-47625bc18661"
      },
      "source": [
        "from google.colab import files\r\n",
        "uploaded = files.upload()"
      ],
      "execution_count": null,
      "outputs": [
        {
          "output_type": "display_data",
          "data": {
            "text/html": [
              "\n",
              "     <input type=\"file\" id=\"files-285a5987-514b-4d21-b4f7-6d758cfc0ffc\" name=\"files[]\" multiple disabled\n",
              "        style=\"border:none\" />\n",
              "     <output id=\"result-285a5987-514b-4d21-b4f7-6d758cfc0ffc\">\n",
              "      Upload widget is only available when the cell has been executed in the\n",
              "      current browser session. Please rerun this cell to enable.\n",
              "      </output>\n",
              "      <script src=\"/nbextensions/google.colab/files.js\"></script> "
            ],
            "text/plain": [
              "<IPython.core.display.HTML object>"
            ]
          },
          "metadata": {
            "tags": []
          }
        },
        {
          "output_type": "stream",
          "text": [
            "Saving Crops.csv to Crops.csv\n"
          ],
          "name": "stdout"
        }
      ]
    },
    {
      "cell_type": "code",
      "metadata": {
        "colab": {
          "base_uri": "https://localhost:8080/",
          "height": 195
        },
        "id": "d5yeg_EqVOO4",
        "outputId": "3b82f03f-4267-4f2f-a100-959f937f8778"
      },
      "source": [
        "import numpy as np\r\n",
        "import pandas as pd\r\n",
        "from time import time\r\n",
        "\r\n",
        "import os\r\n",
        "from sklearn.preprocessing import StandardScaler\r\n",
        "from sklearn.model_selection import train_test_split\r\n",
        "\r\n",
        "data = pd.read_csv(\"Crops.csv\")\r\n",
        "\r\n",
        "data.head()"
      ],
      "execution_count": null,
      "outputs": [
        {
          "output_type": "execute_result",
          "data": {
            "text/html": [
              "<div>\n",
              "<style scoped>\n",
              "    .dataframe tbody tr th:only-of-type {\n",
              "        vertical-align: middle;\n",
              "    }\n",
              "\n",
              "    .dataframe tbody tr th {\n",
              "        vertical-align: top;\n",
              "    }\n",
              "\n",
              "    .dataframe thead th {\n",
              "        text-align: right;\n",
              "    }\n",
              "</style>\n",
              "<table border=\"1\" class=\"dataframe\">\n",
              "  <thead>\n",
              "    <tr style=\"text-align: right;\">\n",
              "      <th></th>\n",
              "      <th>States</th>\n",
              "      <th>Rainfall</th>\n",
              "      <th>Ground Water</th>\n",
              "      <th>Temperature</th>\n",
              "      <th>Soil type</th>\n",
              "      <th>Season</th>\n",
              "      <th>Crop</th>\n",
              "    </tr>\n",
              "  </thead>\n",
              "  <tbody>\n",
              "    <tr>\n",
              "      <th>0</th>\n",
              "      <td>Andhra Pradesh</td>\n",
              "      <td>110.75</td>\n",
              "      <td>9.74</td>\n",
              "      <td>31.5</td>\n",
              "      <td>Alluvial</td>\n",
              "      <td>Kharif</td>\n",
              "      <td>Paddy IGKVR-2 (IET 19795)</td>\n",
              "    </tr>\n",
              "    <tr>\n",
              "      <th>1</th>\n",
              "      <td>Andhra Pradesh</td>\n",
              "      <td>110.75</td>\n",
              "      <td>9.74</td>\n",
              "      <td>31.5</td>\n",
              "      <td>Clayey</td>\n",
              "      <td>Kharif</td>\n",
              "      <td>Paddy IGKVR-2 (IET 19795)</td>\n",
              "    </tr>\n",
              "    <tr>\n",
              "      <th>2</th>\n",
              "      <td>Andhra Pradesh</td>\n",
              "      <td>110.75</td>\n",
              "      <td>9.74</td>\n",
              "      <td>33.0</td>\n",
              "      <td>Alluvial</td>\n",
              "      <td>Kharif</td>\n",
              "      <td>Paddy CR Dhan 501 (IET 19189)</td>\n",
              "    </tr>\n",
              "    <tr>\n",
              "      <th>3</th>\n",
              "      <td>Andhra Pradesh</td>\n",
              "      <td>110.75</td>\n",
              "      <td>9.74</td>\n",
              "      <td>33.0</td>\n",
              "      <td>Clayey</td>\n",
              "      <td>Kharif</td>\n",
              "      <td>Paddy CR Dhan 501 (IET 19189)</td>\n",
              "    </tr>\n",
              "    <tr>\n",
              "      <th>4</th>\n",
              "      <td>Andhra Pradesh</td>\n",
              "      <td>110.75</td>\n",
              "      <td>9.74</td>\n",
              "      <td>20.5</td>\n",
              "      <td>Clayey</td>\n",
              "      <td>Rabi</td>\n",
              "      <td>Wheat VL Gehun 907 (VL 907)</td>\n",
              "    </tr>\n",
              "  </tbody>\n",
              "</table>\n",
              "</div>"
            ],
            "text/plain": [
              "           States  Rainfall  ...  Season                           Crop\n",
              "0  Andhra Pradesh    110.75  ...  Kharif      Paddy IGKVR-2 (IET 19795)\n",
              "1  Andhra Pradesh    110.75  ...  Kharif      Paddy IGKVR-2 (IET 19795)\n",
              "2  Andhra Pradesh    110.75  ...  Kharif  Paddy CR Dhan 501 (IET 19189)\n",
              "3  Andhra Pradesh    110.75  ...  Kharif  Paddy CR Dhan 501 (IET 19189)\n",
              "4  Andhra Pradesh    110.75  ...    Rabi    Wheat VL Gehun 907 (VL 907)\n",
              "\n",
              "[5 rows x 7 columns]"
            ]
          },
          "metadata": {
            "tags": []
          },
          "execution_count": 2
        }
      ]
    },
    {
      "cell_type": "code",
      "metadata": {
        "colab": {
          "base_uri": "https://localhost:8080/"
        },
        "id": "H1BotRmzVjzN",
        "outputId": "e681665a-5be0-429b-90d3-687ee2691eab"
      },
      "source": [
        "crop_pred = data['Crop']\r\n",
        "crop_input = data.drop('Crop', axis =1)\r\n",
        "crop_pred.head()"
      ],
      "execution_count": null,
      "outputs": [
        {
          "output_type": "execute_result",
          "data": {
            "text/plain": [
              "0        Paddy IGKVR-2 (IET 19795)\n",
              "1        Paddy IGKVR-2 (IET 19795)\n",
              "2    Paddy CR Dhan 501 (IET 19189)\n",
              "3    Paddy CR Dhan 501 (IET 19189)\n",
              "4      Wheat VL Gehun 907 (VL 907)\n",
              "Name: Crop, dtype: object"
            ]
          },
          "metadata": {
            "tags": []
          },
          "execution_count": 3
        }
      ]
    },
    {
      "cell_type": "code",
      "metadata": {
        "colab": {
          "base_uri": "https://localhost:8080/",
          "height": 195
        },
        "id": "5ReSp975VwZD",
        "outputId": "62d9c403-0ea0-4dee-ae2b-096ff1ae113a"
      },
      "source": [
        "crop_input.head()"
      ],
      "execution_count": null,
      "outputs": [
        {
          "output_type": "execute_result",
          "data": {
            "text/html": [
              "<div>\n",
              "<style scoped>\n",
              "    .dataframe tbody tr th:only-of-type {\n",
              "        vertical-align: middle;\n",
              "    }\n",
              "\n",
              "    .dataframe tbody tr th {\n",
              "        vertical-align: top;\n",
              "    }\n",
              "\n",
              "    .dataframe thead th {\n",
              "        text-align: right;\n",
              "    }\n",
              "</style>\n",
              "<table border=\"1\" class=\"dataframe\">\n",
              "  <thead>\n",
              "    <tr style=\"text-align: right;\">\n",
              "      <th></th>\n",
              "      <th>States</th>\n",
              "      <th>Rainfall</th>\n",
              "      <th>Ground Water</th>\n",
              "      <th>Temperature</th>\n",
              "      <th>Soil type</th>\n",
              "      <th>Season</th>\n",
              "    </tr>\n",
              "  </thead>\n",
              "  <tbody>\n",
              "    <tr>\n",
              "      <th>0</th>\n",
              "      <td>Andhra Pradesh</td>\n",
              "      <td>110.75</td>\n",
              "      <td>9.74</td>\n",
              "      <td>31.5</td>\n",
              "      <td>Alluvial</td>\n",
              "      <td>Kharif</td>\n",
              "    </tr>\n",
              "    <tr>\n",
              "      <th>1</th>\n",
              "      <td>Andhra Pradesh</td>\n",
              "      <td>110.75</td>\n",
              "      <td>9.74</td>\n",
              "      <td>31.5</td>\n",
              "      <td>Clayey</td>\n",
              "      <td>Kharif</td>\n",
              "    </tr>\n",
              "    <tr>\n",
              "      <th>2</th>\n",
              "      <td>Andhra Pradesh</td>\n",
              "      <td>110.75</td>\n",
              "      <td>9.74</td>\n",
              "      <td>33.0</td>\n",
              "      <td>Alluvial</td>\n",
              "      <td>Kharif</td>\n",
              "    </tr>\n",
              "    <tr>\n",
              "      <th>3</th>\n",
              "      <td>Andhra Pradesh</td>\n",
              "      <td>110.75</td>\n",
              "      <td>9.74</td>\n",
              "      <td>33.0</td>\n",
              "      <td>Clayey</td>\n",
              "      <td>Kharif</td>\n",
              "    </tr>\n",
              "    <tr>\n",
              "      <th>4</th>\n",
              "      <td>Andhra Pradesh</td>\n",
              "      <td>110.75</td>\n",
              "      <td>9.74</td>\n",
              "      <td>20.5</td>\n",
              "      <td>Clayey</td>\n",
              "      <td>Rabi</td>\n",
              "    </tr>\n",
              "  </tbody>\n",
              "</table>\n",
              "</div>"
            ],
            "text/plain": [
              "           States  Rainfall  Ground Water  Temperature Soil type  Season\n",
              "0  Andhra Pradesh    110.75          9.74         31.5  Alluvial  Kharif\n",
              "1  Andhra Pradesh    110.75          9.74         31.5    Clayey  Kharif\n",
              "2  Andhra Pradesh    110.75          9.74         33.0  Alluvial  Kharif\n",
              "3  Andhra Pradesh    110.75          9.74         33.0    Clayey  Kharif\n",
              "4  Andhra Pradesh    110.75          9.74         20.5    Clayey    Rabi"
            ]
          },
          "metadata": {
            "tags": []
          },
          "execution_count": 4
        }
      ]
    },
    {
      "cell_type": "code",
      "metadata": {
        "id": "OkRQH7fvVzZm"
      },
      "source": [
        "from sklearn.preprocessing import StandardScaler\r\n",
        "scaler=StandardScaler()\r\n",
        "numerical = ['Rainfall', 'Ground Water', 'Temperature']\r\n",
        "crop_transform = pd.DataFrame(data =crop_input)\r\n"
      ],
      "execution_count": null,
      "outputs": []
    },
    {
      "cell_type": "code",
      "metadata": {
        "colab": {
          "base_uri": "https://localhost:8080/",
          "height": 195
        },
        "id": "3HyLvKndV1Gb",
        "outputId": "9c790fae-f1e6-45dc-8ef7-19da79a887cd"
      },
      "source": [
        "crop_transformed = crop_transform.drop('States', axis=1)\r\n",
        "features_final = pd.get_dummies(crop_transformed)\r\n",
        "crop_transformed.head()"
      ],
      "execution_count": null,
      "outputs": [
        {
          "output_type": "execute_result",
          "data": {
            "text/html": [
              "<div>\n",
              "<style scoped>\n",
              "    .dataframe tbody tr th:only-of-type {\n",
              "        vertical-align: middle;\n",
              "    }\n",
              "\n",
              "    .dataframe tbody tr th {\n",
              "        vertical-align: top;\n",
              "    }\n",
              "\n",
              "    .dataframe thead th {\n",
              "        text-align: right;\n",
              "    }\n",
              "</style>\n",
              "<table border=\"1\" class=\"dataframe\">\n",
              "  <thead>\n",
              "    <tr style=\"text-align: right;\">\n",
              "      <th></th>\n",
              "      <th>Rainfall</th>\n",
              "      <th>Ground Water</th>\n",
              "      <th>Temperature</th>\n",
              "      <th>Soil type</th>\n",
              "      <th>Season</th>\n",
              "    </tr>\n",
              "  </thead>\n",
              "  <tbody>\n",
              "    <tr>\n",
              "      <th>0</th>\n",
              "      <td>110.75</td>\n",
              "      <td>9.74</td>\n",
              "      <td>31.5</td>\n",
              "      <td>Alluvial</td>\n",
              "      <td>Kharif</td>\n",
              "    </tr>\n",
              "    <tr>\n",
              "      <th>1</th>\n",
              "      <td>110.75</td>\n",
              "      <td>9.74</td>\n",
              "      <td>31.5</td>\n",
              "      <td>Clayey</td>\n",
              "      <td>Kharif</td>\n",
              "    </tr>\n",
              "    <tr>\n",
              "      <th>2</th>\n",
              "      <td>110.75</td>\n",
              "      <td>9.74</td>\n",
              "      <td>33.0</td>\n",
              "      <td>Alluvial</td>\n",
              "      <td>Kharif</td>\n",
              "    </tr>\n",
              "    <tr>\n",
              "      <th>3</th>\n",
              "      <td>110.75</td>\n",
              "      <td>9.74</td>\n",
              "      <td>33.0</td>\n",
              "      <td>Clayey</td>\n",
              "      <td>Kharif</td>\n",
              "    </tr>\n",
              "    <tr>\n",
              "      <th>4</th>\n",
              "      <td>110.75</td>\n",
              "      <td>9.74</td>\n",
              "      <td>20.5</td>\n",
              "      <td>Clayey</td>\n",
              "      <td>Rabi</td>\n",
              "    </tr>\n",
              "  </tbody>\n",
              "</table>\n",
              "</div>"
            ],
            "text/plain": [
              "   Rainfall  Ground Water  Temperature Soil type  Season\n",
              "0    110.75          9.74         31.5  Alluvial  Kharif\n",
              "1    110.75          9.74         31.5    Clayey  Kharif\n",
              "2    110.75          9.74         33.0  Alluvial  Kharif\n",
              "3    110.75          9.74         33.0    Clayey  Kharif\n",
              "4    110.75          9.74         20.5    Clayey    Rabi"
            ]
          },
          "metadata": {
            "tags": []
          },
          "execution_count": 6
        }
      ]
    },
    {
      "cell_type": "code",
      "metadata": {
        "colab": {
          "base_uri": "https://localhost:8080/",
          "height": 212
        },
        "id": "MY4ICtVCV6gV",
        "outputId": "32c63adb-3bfb-4c72-db4b-53a5b65b5f72"
      },
      "source": [
        "features_final.head()"
      ],
      "execution_count": null,
      "outputs": [
        {
          "output_type": "execute_result",
          "data": {
            "text/html": [
              "<div>\n",
              "<style scoped>\n",
              "    .dataframe tbody tr th:only-of-type {\n",
              "        vertical-align: middle;\n",
              "    }\n",
              "\n",
              "    .dataframe tbody tr th {\n",
              "        vertical-align: top;\n",
              "    }\n",
              "\n",
              "    .dataframe thead th {\n",
              "        text-align: right;\n",
              "    }\n",
              "</style>\n",
              "<table border=\"1\" class=\"dataframe\">\n",
              "  <thead>\n",
              "    <tr style=\"text-align: right;\">\n",
              "      <th></th>\n",
              "      <th>Rainfall</th>\n",
              "      <th>Ground Water</th>\n",
              "      <th>Temperature</th>\n",
              "      <th>Soil type_Alluvial</th>\n",
              "      <th>Soil type_Black</th>\n",
              "      <th>Soil type_Clayey</th>\n",
              "      <th>Soil type_Latterite</th>\n",
              "      <th>Soil type_Red</th>\n",
              "      <th>Soil type_Sandy</th>\n",
              "      <th>Season_All Season</th>\n",
              "      <th>Season_Kharif</th>\n",
              "      <th>Season_Rabi</th>\n",
              "      <th>Season_Zaid</th>\n",
              "    </tr>\n",
              "  </thead>\n",
              "  <tbody>\n",
              "    <tr>\n",
              "      <th>0</th>\n",
              "      <td>110.75</td>\n",
              "      <td>9.74</td>\n",
              "      <td>31.5</td>\n",
              "      <td>1</td>\n",
              "      <td>0</td>\n",
              "      <td>0</td>\n",
              "      <td>0</td>\n",
              "      <td>0</td>\n",
              "      <td>0</td>\n",
              "      <td>0</td>\n",
              "      <td>1</td>\n",
              "      <td>0</td>\n",
              "      <td>0</td>\n",
              "    </tr>\n",
              "    <tr>\n",
              "      <th>1</th>\n",
              "      <td>110.75</td>\n",
              "      <td>9.74</td>\n",
              "      <td>31.5</td>\n",
              "      <td>0</td>\n",
              "      <td>0</td>\n",
              "      <td>1</td>\n",
              "      <td>0</td>\n",
              "      <td>0</td>\n",
              "      <td>0</td>\n",
              "      <td>0</td>\n",
              "      <td>1</td>\n",
              "      <td>0</td>\n",
              "      <td>0</td>\n",
              "    </tr>\n",
              "    <tr>\n",
              "      <th>2</th>\n",
              "      <td>110.75</td>\n",
              "      <td>9.74</td>\n",
              "      <td>33.0</td>\n",
              "      <td>1</td>\n",
              "      <td>0</td>\n",
              "      <td>0</td>\n",
              "      <td>0</td>\n",
              "      <td>0</td>\n",
              "      <td>0</td>\n",
              "      <td>0</td>\n",
              "      <td>1</td>\n",
              "      <td>0</td>\n",
              "      <td>0</td>\n",
              "    </tr>\n",
              "    <tr>\n",
              "      <th>3</th>\n",
              "      <td>110.75</td>\n",
              "      <td>9.74</td>\n",
              "      <td>33.0</td>\n",
              "      <td>0</td>\n",
              "      <td>0</td>\n",
              "      <td>1</td>\n",
              "      <td>0</td>\n",
              "      <td>0</td>\n",
              "      <td>0</td>\n",
              "      <td>0</td>\n",
              "      <td>1</td>\n",
              "      <td>0</td>\n",
              "      <td>0</td>\n",
              "    </tr>\n",
              "    <tr>\n",
              "      <th>4</th>\n",
              "      <td>110.75</td>\n",
              "      <td>9.74</td>\n",
              "      <td>20.5</td>\n",
              "      <td>0</td>\n",
              "      <td>0</td>\n",
              "      <td>1</td>\n",
              "      <td>0</td>\n",
              "      <td>0</td>\n",
              "      <td>0</td>\n",
              "      <td>0</td>\n",
              "      <td>0</td>\n",
              "      <td>1</td>\n",
              "      <td>0</td>\n",
              "    </tr>\n",
              "  </tbody>\n",
              "</table>\n",
              "</div>"
            ],
            "text/plain": [
              "   Rainfall  Ground Water  Temperature  ...  Season_Kharif  Season_Rabi  Season_Zaid\n",
              "0    110.75          9.74         31.5  ...              1            0            0\n",
              "1    110.75          9.74         31.5  ...              1            0            0\n",
              "2    110.75          9.74         33.0  ...              1            0            0\n",
              "3    110.75          9.74         33.0  ...              1            0            0\n",
              "4    110.75          9.74         20.5  ...              0            1            0\n",
              "\n",
              "[5 rows x 13 columns]"
            ]
          },
          "metadata": {
            "tags": []
          },
          "execution_count": 7
        }
      ]
    },
    {
      "cell_type": "code",
      "metadata": {
        "colab": {
          "base_uri": "https://localhost:8080/"
        },
        "id": "frDvd0TzWBtf",
        "outputId": "9ceaed96-46bb-4dde-a622-d0df5ca43e1a"
      },
      "source": [
        "factor = pd.factorize(data['Crop'])\r\n",
        "data.Crop = factor[0]\r\n",
        "definitions = factor[1]\r\n",
        "print(data.Crop.head())\r\n",
        "print(definitions)"
      ],
      "execution_count": null,
      "outputs": [
        {
          "output_type": "stream",
          "text": [
            "0    0\n",
            "1    0\n",
            "2    1\n",
            "3    1\n",
            "4    2\n",
            "Name: Crop, dtype: int64\n",
            "Index(['Paddy IGKVR-2 (IET 19795)', 'Paddy CR Dhan 501 (IET 19189)',\n",
            "       'Wheat VL Gehun 907 (VL 907)', 'Wheat WHD 943',\n",
            "       'Millet Nandi-65 (MH-1549)', 'Lentil Pant Lentil-8(Pant L-063)',\n",
            "       'Bajra', 'Cardamom', 'Urad', 'Jowar', 'Paddy CR Dhan 401 (REETA)',\n",
            "       'Millet MH 1540 (86M64) (Hybrid)', 'Sugarcane Karan 5 (Co 0124)',\n",
            "       'Clove', 'Banana', 'Moong', 'Arhar', 'Oilseed', 'Tea', 'Coffee',\n",
            "       'Turmeric', 'Cashewnut', 'Ragi', 'Soyabean', 'Black Gram', 'Khesari',\n",
            "       'Wheat MACS 6222', 'Black Pepper', 'Chillies', 'Garlic',\n",
            "       'Wheat MPO(JW) 1215 (MPO 1215)', 'Maize PMH 5 (JH 3110)',\n",
            "       'Groundnut Kadiri Harithandhra (K 1319)', 'Groundnut GPBD 5',\n",
            "       'Lentil Pant Lentil-7(Pant L-024)', 'Tobacco', 'Tomato', 'Cocoa',\n",
            "       'Rubber', 'Masoor', 'Sunhemp', 'Varagu',\n",
            "       'Paddy CR Dhan 601 (IET 18558)', 'Wheat Netravati (NIAW 1415)',\n",
            "       'Maize HSC1', 'Millet Nandi-61 (MH-1548)',\n",
            "       'Millet 86M64 (MSH 203) (Hybrid)', 'Barley Pusa Losar (BH- 380)',\n",
            "       'Maize DHM 119 (BH 4062)', 'Millet HHB 226 (MH 1479)', 'Jute',\n",
            "       'Paddy Chinsurah Rice (IET 19140)', 'Paddy (CNI 383-5-11)',\n",
            "       'Paddy IGKVR-1 (IET 19569)', 'Onion', 'Cotton CNH012',\n",
            "       'Cotton CICR-3 (CISA 614)', 'Rice', 'Flax', 'Barley BH-902',\n",
            "       'Sunflower', 'Maize HQPM-4', 'Groundnut Girnar - 3 (PBS 12160)',\n",
            "       'Dry Ginger', 'Horse Gram', 'Castor Seed', 'Sesame',\n",
            "       'Sugarcane Karan 6 (Co 0239)', 'Peas',\n",
            "       'Paddy RC Maniphou 11 (IET 20193)', 'Cowpea',\n",
            "       'Maize MCH 36 (Hybrid) (DKC 9099)', 'Pulses', 'Sugarcane Co-0218',\n",
            "       'Wheat PDW 314', 'Sweet potato', 'Cotton VBCH 2231'],\n",
            "      dtype='object')\n"
          ],
          "name": "stdout"
        }
      ]
    },
    {
      "cell_type": "code",
      "metadata": {
        "colab": {
          "base_uri": "https://localhost:8080/"
        },
        "id": "0Ggw-Qc5WEUl",
        "outputId": "a6a96b04-11c0-4d3d-89ee-2db8e27f9555"
      },
      "source": [
        "X =features_final.iloc[:].values\r\n",
        "y = data.iloc[:,6].values\r\n",
        "print('The independent features set: ')\r\n",
        "print(X[:5,:])\r\n",
        "print('The dependent variable: ')\r\n",
        "print(y[:5])"
      ],
      "execution_count": null,
      "outputs": [
        {
          "output_type": "stream",
          "text": [
            "The independent features set: \n",
            "[[110.75   9.74  31.5    1.     0.     0.     0.     0.     0.     0.\n",
            "    1.     0.     0.  ]\n",
            " [110.75   9.74  31.5    0.     0.     1.     0.     0.     0.     0.\n",
            "    1.     0.     0.  ]\n",
            " [110.75   9.74  33.     1.     0.     0.     0.     0.     0.     0.\n",
            "    1.     0.     0.  ]\n",
            " [110.75   9.74  33.     0.     0.     1.     0.     0.     0.     0.\n",
            "    1.     0.     0.  ]\n",
            " [110.75   9.74  20.5    0.     0.     1.     0.     0.     0.     0.\n",
            "    0.     1.     0.  ]]\n",
            "The dependent variable: \n",
            "[0 0 1 1 2]\n"
          ],
          "name": "stdout"
        }
      ]
    },
    {
      "cell_type": "code",
      "metadata": {
        "colab": {
          "base_uri": "https://localhost:8080/"
        },
        "id": "WT_IGjiZWJIS",
        "outputId": "25792e2b-9088-4993-880c-616468b1dcb2"
      },
      "source": [
        "from sklearn.model_selection import train_test_split\r\n",
        "\r\n",
        "X_train, X_test, y_train, y_test = train_test_split(X, y, test_size=0.15, random_state= 21 )\r\n",
        "\r\n",
        "\r\n",
        "print(\"Training set has {} samples.\".format(X_train.shape[0]))\r\n",
        "\r\n",
        "print(\"Testing set has {} samples.\".format(X_test.shape[0]))\r\n"
      ],
      "execution_count": null,
      "outputs": [
        {
          "output_type": "stream",
          "text": [
            "Training set has 697 samples.\n",
            "Testing set has 124 samples.\n"
          ],
          "name": "stdout"
        }
      ]
    },
    {
      "cell_type": "code",
      "metadata": {
        "colab": {
          "base_uri": "https://localhost:8080/"
        },
        "id": "XyFVlFHlWL4y",
        "outputId": "14120b97-e219-4ccd-9d54-a5bfca31e132"
      },
      "source": [
        "from sklearn.tree import DecisionTreeClassifier\r\n",
        "classifier = DecisionTreeClassifier(max_depth =35, max_features =10 , random_state = 42 , ccp_alpha = 0.0022 , criterion=\"gini\" )\r\n",
        "classifier.fit(X_train, y_train)"
      ],
      "execution_count": null,
      "outputs": [
        {
          "output_type": "execute_result",
          "data": {
            "text/plain": [
              "DecisionTreeClassifier(ccp_alpha=0.0022, class_weight=None, criterion='gini',\n",
              "                       max_depth=35, max_features=10, max_leaf_nodes=None,\n",
              "                       min_impurity_decrease=0.0, min_impurity_split=None,\n",
              "                       min_samples_leaf=1, min_samples_split=2,\n",
              "                       min_weight_fraction_leaf=0.0, presort='deprecated',\n",
              "                       random_state=42, splitter='best')"
            ]
          },
          "metadata": {
            "tags": []
          },
          "execution_count": 11
        }
      ]
    },
    {
      "cell_type": "code",
      "metadata": {
        "colab": {
          "base_uri": "https://localhost:8080/"
        },
        "id": "mocFg8xIWOtX",
        "outputId": "5cf6f7f1-1989-4885-c29c-02bffce4983f"
      },
      "source": [
        "y_pred = classifier.predict(X_test)\r\n",
        "reversefactor = dict(zip(range(77),definitions))\r\n",
        "y_test = np.vectorize(reversefactor.get)(y_test)\r\n",
        "y_pred = np.vectorize(reversefactor.get)(y_pred)\r\n",
        "# Making the Confusion Matrix\r\n",
        "print(pd.crosstab(y_test, y_pred, rownames=['Actual Crop'], colnames=['Predicted Crop']))"
      ],
      "execution_count": null,
      "outputs": [
        {
          "output_type": "stream",
          "text": [
            "Predicted Crop                    Banana  ...  Wheat VL Gehun 907 (VL 907)\n",
            "Actual Crop                               ...                             \n",
            "Bajra                                  0  ...                            0\n",
            "Banana                                 6  ...                            0\n",
            "Black Gram                             0  ...                            0\n",
            "Black Pepper                           0  ...                            0\n",
            "Cardamom                               0  ...                            0\n",
            "Cashewnut                              0  ...                            0\n",
            "Clove                                  0  ...                            0\n",
            "Cocoa                                  0  ...                            0\n",
            "Coffee                                 0  ...                            0\n",
            "Cotton CNH012                          0  ...                            0\n",
            "Cowpea                                 0  ...                            0\n",
            "Dry Ginger                             0  ...                            0\n",
            "Flax                                   0  ...                            0\n",
            "Garlic                                 0  ...                            0\n",
            "Groundnut Girnar - 3 (PBS 12160)       0  ...                            0\n",
            "Horse Gram                             0  ...                            0\n",
            "Jute                                   0  ...                            0\n",
            "Maize DHM 119 (BH 4062)                0  ...                            0\n",
            "Maize HQPM-4                           0  ...                            0\n",
            "Maize HSC1                             0  ...                            0\n",
            "Maize PMH 5 (JH 3110)                  0  ...                            0\n",
            "Masoor                                 0  ...                            0\n",
            "Millet 86M64 (MSH 203) (Hybrid)        0  ...                            0\n",
            "Millet MH 1540 (86M64) (Hybrid)        0  ...                            0\n",
            "Millet Nandi-61 (MH-1548)              0  ...                            0\n",
            "Millet Nandi-65 (MH-1549)              0  ...                            0\n",
            "Moong                                  0  ...                            0\n",
            "Oilseed                                0  ...                            0\n",
            "Onion                                  0  ...                            0\n",
            "Paddy (CNI 383-5-11)                   0  ...                            0\n",
            "Paddy CR Dhan 401 (REETA)              0  ...                            0\n",
            "Paddy Chinsurah Rice (IET 19140)       0  ...                            0\n",
            "Paddy IGKVR-1 (IET 19569)              0  ...                            0\n",
            "Paddy IGKVR-2 (IET 19795)              0  ...                            0\n",
            "Paddy RC Maniphou 11 (IET 20193)       0  ...                            0\n",
            "Ragi                                   0  ...                            0\n",
            "Rice                                   0  ...                            0\n",
            "Sesame                                 0  ...                            0\n",
            "Sugarcane Co-0218                      0  ...                            0\n",
            "Sugarcane Karan 5 (Co 0124)            0  ...                            0\n",
            "Sunflower                              2  ...                            0\n",
            "Tea                                    0  ...                            0\n",
            "Tomato                                 0  ...                            0\n",
            "Turmeric                               0  ...                            0\n",
            "Urad                                   0  ...                            0\n",
            "Wheat MACS 6222                        0  ...                            0\n",
            "Wheat MPO(JW) 1215 (MPO 1215)          0  ...                            0\n",
            "Wheat VL Gehun 907 (VL 907)            0  ...                            1\n",
            "\n",
            "[48 rows x 38 columns]\n"
          ],
          "name": "stdout"
        }
      ]
    },
    {
      "cell_type": "code",
      "metadata": {
        "colab": {
          "base_uri": "https://localhost:8080/"
        },
        "id": "7rSchElJWSm_",
        "outputId": "40100425-c467-4679-bc61-9416fb00628a"
      },
      "source": [
        "from sklearn.metrics import fbeta_score, accuracy_score, precision_score, recall_score\r\n",
        "\r\n",
        "print(\"Accuracy on testing data: {:.4f}\".format(accuracy_score(y_test, y_pred)))\r\n",
        "print(\"F-score on testing data: {:.4f}\".format(fbeta_score(y_test, y_pred, average='weighted', beta = 0.5)))\r\n",
        "print(\"Precision on testing data: {:.4f}\".format(precision_score(y_test, y_pred,average='weighted')))\r\n",
        "print(\"Recall on testing data: {:.4f}\".format(recall_score(y_test, y_pred,average='weighted')))\r\n"
      ],
      "execution_count": null,
      "outputs": [
        {
          "output_type": "stream",
          "text": [
            "Accuracy on testing data: 0.8065\n",
            "F-score on testing data: 0.7715\n",
            "Precision on testing data: 0.7716\n",
            "Recall on testing data: 0.8065\n"
          ],
          "name": "stdout"
        },
        {
          "output_type": "stream",
          "text": [
            "/usr/local/lib/python3.6/dist-packages/sklearn/metrics/_classification.py:1272: UndefinedMetricWarning: Precision is ill-defined and being set to 0.0 in labels with no predicted samples. Use `zero_division` parameter to control this behavior.\n",
            "  _warn_prf(average, modifier, msg_start, len(result))\n",
            "/usr/local/lib/python3.6/dist-packages/sklearn/metrics/_classification.py:1272: UndefinedMetricWarning: Recall is ill-defined and being set to 0.0 in labels with no true samples. Use `zero_division` parameter to control this behavior.\n",
            "  _warn_prf(average, modifier, msg_start, len(result))\n"
          ],
          "name": "stderr"
        }
      ]
    },
    {
      "cell_type": "code",
      "metadata": {
        "colab": {
          "base_uri": "https://localhost:8080/"
        },
        "id": "CDjAxvxFc3-T",
        "outputId": "5e9dae31-e26a-4bbb-ede6-41c1d3d20e00"
      },
      "source": [
        "X_test"
      ],
      "execution_count": null,
      "outputs": [
        {
          "output_type": "execute_result",
          "data": {
            "text/plain": [
              "array([[125.6 ,   7.5 ,  30.  , ...,   0.  ,   0.  ,   1.  ],\n",
              "       [250.  ,   9.  ,  22.5 , ...,   0.  ,   0.  ,   0.  ],\n",
              "       [ 30.  ,   3.8 ,  28.5 , ...,   0.  ,   1.  ,   0.  ],\n",
              "       ...,\n",
              "       [110.75,   9.74,  20.5 , ...,   0.  ,   1.  ,   0.  ],\n",
              "       [ 87.5 ,   8.  ,  25.  , ...,   1.  ,   0.  ,   0.  ],\n",
              "       [137.5 ,  12.3 ,  27.5 , ...,   0.  ,   1.  ,   0.  ]])"
            ]
          },
          "metadata": {
            "tags": []
          },
          "execution_count": 14
        }
      ]
    },
    {
      "cell_type": "code",
      "metadata": {
        "id": "zN0cw8MY3OMQ"
      },
      "source": [
        "''' Prediction Function '''\r\n",
        "\r\n",
        "def prediction(arr) :\r\n",
        "\r\n",
        "  a=classifier.predict(arr)\r\n",
        "  a = np.vectorize(reversefactor.get)(a)\r\n",
        "  return a\r\n"
      ],
      "execution_count": null,
      "outputs": []
    },
    {
      "cell_type": "code",
      "metadata": {
        "id": "sNyxlrToxxnH"
      },
      "source": [
        "location = 'Assam'\r\n",
        "temperature = '25'\r\n",
        "soil_type= 'Alluvial'\r\n",
        "season = 'Kharif'"
      ],
      "execution_count": null,
      "outputs": []
    },
    {
      "cell_type": "code",
      "metadata": {
        "id": "EW-yt0j647AW"
      },
      "source": [
        "crop_dict_one = {'Andhra Pradesh': np.array([[110.75, 9.74]]), 'Assam' : np.array([[156.2, 1.62]]), 'Bihar': np.array([[125.6,7.5]]), 'Chhattisgarh' : np.array([[130.4, 5]]) , 'Goa' : np.array([[295, 13]]), 'Gujrat': np.array([[115.7,35]]), 'Haryana' : np.array([[47.5, 15]]), 'Himachal Pradesh' :np.array([[127.5, 22]]), 'Jharkhand': np.array([[121.4,12]]), 'Karnataka' : np.array([[121.4, 22]]), 'Kerala' : np.array([[315.7, 20]]), 'Madhya Pradesh': np.array([[235.5,22]]), 'Maharashtra' : np.array([[246, 3.2]]), 'Manipur' : np.array([[148.8, 4]]),'Meghalaya': np.array([[117.5,4]]), 'Mizoram' : np.array([[257, 8]]), 'Nagaland' : np.array([[215, 18.1]]), \r\n",
        "             'Odisha': np.array([[215,5]]),'Punjab' : np.array([[60, 8.9]]), 'Rajasthan' : np.array([[48.8, 32]]), 'Sikkim': np.array([[299.5,50]]),\r\n",
        "             'Tamil Nadu' : np.array([[145, 16.67]]),'Telangana' :np.array([[87.5, 8]]), 'Tripura': np.array([[238.5,6.7]]), 'Uttar Pradesh' : np.array([[134.65, 6]]), 'Uttarakhand' : np.array([[164.5, 7.5]]), \r\n",
        "             'West Bengal': np.array([[250,9]]), 'Andaman and Nicobar Islands' : np.array([[277, 3.5]]), 'Dadra & Nagar Haveli and Daman & Diu' : np.array([[89, 2]]),\r\n",
        "             'Chandigarh': np.array([[105.5,28]]), 'Jammu and Kashmir': np.array([[111.5,17]]), 'Delhi' : np.array([[90,6.7]]),\r\n",
        "             'Lakshdweep' : np.array([[30, 3.8]]), 'Puducherry': np.array([[137.5,12.3]]), 'Ladakh' : np.array([[15,22.3]])  }\r\n",
        "\r\n",
        "for i,j in crop_dict_one.items() :\r\n",
        "  if i==location :\r\n",
        "    loc = j    "
      ],
      "execution_count": null,
      "outputs": []
    },
    {
      "cell_type": "code",
      "metadata": {
        "id": "RqZmEbnZqPp4"
      },
      "source": [
        "temp = np.array([[float(temperature)]])"
      ],
      "execution_count": null,
      "outputs": []
    },
    {
      "cell_type": "code",
      "metadata": {
        "id": "Y3SFY5wWDgLw"
      },
      "source": [
        "crop_dict_two = {'Alluvial': np.array([[1,0,0,0,0,0]]), 'Black':np.array([[0,1,0,0,0,0]]), 'Clayey': np.array([[0,0,1,0,0,0]]), 'Latterite': np.array([[0,0,0,1,0,0]]),  \r\n",
        "                 'Red': np.array([[0,0,0,0,1,0]]), 'Sandy':np.array([[0,0,0,0,0,1]]) }\r\n",
        "\r\n",
        "for a,b in crop_dict_two.items() :\r\n",
        "  if a==soil_type :\r\n",
        "    soil = b                  "
      ],
      "execution_count": null,
      "outputs": []
    },
    {
      "cell_type": "code",
      "metadata": {
        "id": "zzznBjIxqw8c"
      },
      "source": [
        "crop_dict_three = { 'All Season': np.array([[1,0,0,0]]), 'Kharif': np.array([[0,1,0,0]]), 'Rabi': np.array([[0,0,1,0]]), 'Zaid': np.array([[0,0,0,1]]) }\r\n",
        "\r\n",
        "for c,d in crop_dict_three.items() :\r\n",
        "  if c==season :\r\n",
        "    season_ = d "
      ],
      "execution_count": null,
      "outputs": []
    },
    {
      "cell_type": "code",
      "metadata": {
        "colab": {
          "base_uri": "https://localhost:8080/"
        },
        "id": "jPc9P2G7xa_C",
        "outputId": "f41b8fed-efc4-4930-e4ba-878c8aa1f1c1"
      },
      "source": [
        "final_arr = np.hstack((loc, temp, soil, season_))\r\n",
        "\r\n",
        "final_arr"
      ],
      "execution_count": null,
      "outputs": [
        {
          "output_type": "execute_result",
          "data": {
            "text/plain": [
              "array([[156.2 ,   1.62,  25.  ,   1.  ,   0.  ,   0.  ,   0.  ,   0.  ,\n",
              "          0.  ,   0.  ,   1.  ,   0.  ,   0.  ]])"
            ]
          },
          "metadata": {
            "tags": []
          },
          "execution_count": 21
        }
      ]
    },
    {
      "cell_type": "code",
      "metadata": {
        "colab": {
          "base_uri": "https://localhost:8080/"
        },
        "id": "_pjEMhFdyLUa",
        "outputId": "73e2b4bb-b8b8-4611-97a5-4d96bd6edf0f"
      },
      "source": [
        "predicted_crop = prediction(final_arr)\r\n",
        "print(\"The predicted Crop is :\", predicted_crop )\r\n"
      ],
      "execution_count": null,
      "outputs": [
        {
          "output_type": "stream",
          "text": [
            "The predicted Crop is : ['Tea']\n"
          ],
          "name": "stdout"
        }
      ]
    },
    {
      "cell_type": "code",
      "metadata": {
        "colab": {
          "resources": {
            "http://localhost:8080/nbextensions/google.colab/files.js": {
              "data": "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",
              "ok": true,
              "headers": [
                [
                  "content-type",
                  "application/javascript"
                ]
              ],
              "status": 200,
              "status_text": ""
            }
          },
          "base_uri": "https://localhost:8080/",
          "height": 73
        },
        "id": "lPk4KtRYyYYw",
        "outputId": "a7f258c0-4765-4069-f1e5-fc288e12b666"
      },
      "source": [
        "uploaded_2 = files.upload()"
      ],
      "execution_count": null,
      "outputs": [
        {
          "output_type": "display_data",
          "data": {
            "text/html": [
              "\n",
              "     <input type=\"file\" id=\"files-dd275aa4-dc67-4b5b-82b6-e211cdd0442d\" name=\"files[]\" multiple disabled\n",
              "        style=\"border:none\" />\n",
              "     <output id=\"result-dd275aa4-dc67-4b5b-82b6-e211cdd0442d\">\n",
              "      Upload widget is only available when the cell has been executed in the\n",
              "      current browser session. Please rerun this cell to enable.\n",
              "      </output>\n",
              "      <script src=\"/nbextensions/google.colab/files.js\"></script> "
            ],
            "text/plain": [
              "<IPython.core.display.HTML object>"
            ]
          },
          "metadata": {
            "tags": []
          }
        },
        {
          "output_type": "stream",
          "text": [
            "Saving Prediction.csv to Prediction.csv\n"
          ],
          "name": "stdout"
        }
      ]
    },
    {
      "cell_type": "code",
      "metadata": {
        "id": "X9-NIw7N15rD"
      },
      "source": [
        "additional_info = pd.read_csv('Prediction.csv')"
      ],
      "execution_count": null,
      "outputs": []
    },
    {
      "cell_type": "code",
      "metadata": {
        "colab": {
          "base_uri": "https://localhost:8080/",
          "height": 618
        },
        "id": "pkq28lRB2HwY",
        "outputId": "39eb61a3-1109-43de-d444-af1098c220c1"
      },
      "source": [
        "additional_info.head()"
      ],
      "execution_count": null,
      "outputs": [
        {
          "output_type": "execute_result",
          "data": {
            "text/html": [
              "<div>\n",
              "<style scoped>\n",
              "    .dataframe tbody tr th:only-of-type {\n",
              "        vertical-align: middle;\n",
              "    }\n",
              "\n",
              "    .dataframe tbody tr th {\n",
              "        vertical-align: top;\n",
              "    }\n",
              "\n",
              "    .dataframe thead th {\n",
              "        text-align: right;\n",
              "    }\n",
              "</style>\n",
              "<table border=\"1\" class=\"dataframe\">\n",
              "  <thead>\n",
              "    <tr style=\"text-align: right;\">\n",
              "      <th></th>\n",
              "      <th>Crops</th>\n",
              "      <th>Fertilisers required</th>\n",
              "      <th>Cost of cultivation</th>\n",
              "      <th>Expected revenues</th>\n",
              "      <th>Quantity of seeds per hectare</th>\n",
              "      <th>Duration of cultivation</th>\n",
              "      <th>Demand of crop</th>\n",
              "      <th>Crops for mixed cropping</th>\n",
              "    </tr>\n",
              "  </thead>\n",
              "  <tbody>\n",
              "    <tr>\n",
              "      <th>0</th>\n",
              "      <td>Paddy IGKVR-2 (IET 19795)</td>\n",
              "      <td>Potassium,Urea</td>\n",
              "      <td>22810</td>\n",
              "      <td>63851.8391</td>\n",
              "      <td>25kg</td>\n",
              "      <td>105-123</td>\n",
              "      <td>High</td>\n",
              "      <td>Gram, Groundnut</td>\n",
              "    </tr>\n",
              "    <tr>\n",
              "      <th>1</th>\n",
              "      <td>Paddy CR Dhan 501 (IET 19189)</td>\n",
              "      <td>Potassium,Urea</td>\n",
              "      <td>22810</td>\n",
              "      <td>63851.8391</td>\n",
              "      <td>25kg</td>\n",
              "      <td>105-126</td>\n",
              "      <td>High</td>\n",
              "      <td>Gram, Groundnut</td>\n",
              "    </tr>\n",
              "    <tr>\n",
              "      <th>2</th>\n",
              "      <td>Wheat VL Gehun 907 (VL 907)</td>\n",
              "      <td>Phosphorus,Nitrogen</td>\n",
              "      <td>17714</td>\n",
              "      <td>50166.54</td>\n",
              "      <td>112kg</td>\n",
              "      <td>60-154</td>\n",
              "      <td>High</td>\n",
              "      <td>Horse Gram, Black Gram, Mustard</td>\n",
              "    </tr>\n",
              "    <tr>\n",
              "      <th>3</th>\n",
              "      <td>Wheat WHD 943</td>\n",
              "      <td>Phosphorus,Nitrogen</td>\n",
              "      <td>17714</td>\n",
              "      <td>50166.54</td>\n",
              "      <td>112kg</td>\n",
              "      <td>60-157</td>\n",
              "      <td>High</td>\n",
              "      <td>Horse Gram, Black Gram, Mustard</td>\n",
              "    </tr>\n",
              "    <tr>\n",
              "      <th>4</th>\n",
              "      <td>Millet Nandi-65 (MH-1549)</td>\n",
              "      <td>Nitrogen,Magnesium,Potassium,Phosphorus</td>\n",
              "      <td>21570</td>\n",
              "      <td>59556.38316</td>\n",
              "      <td>5kg</td>\n",
              "      <td>65-70</td>\n",
              "      <td>Moderate</td>\n",
              "      <td>Black gram, Moong, Cowpea, Sorghum</td>\n",
              "    </tr>\n",
              "  </tbody>\n",
              "</table>\n",
              "</div>"
            ],
            "text/plain": [
              "                           Crops  ...            Crops for mixed cropping\n",
              "0      Paddy IGKVR-2 (IET 19795)  ...                     Gram, Groundnut\n",
              "1  Paddy CR Dhan 501 (IET 19189)  ...                     Gram, Groundnut\n",
              "2    Wheat VL Gehun 907 (VL 907)  ...     Horse Gram, Black Gram, Mustard\n",
              "3                  Wheat WHD 943  ...     Horse Gram, Black Gram, Mustard\n",
              "4      Millet Nandi-65 (MH-1549)  ...  Black gram, Moong, Cowpea, Sorghum\n",
              "\n",
              "[5 rows x 8 columns]"
            ]
          },
          "metadata": {
            "tags": []
          },
          "execution_count": 25
        }
      ]
    },
    {
      "cell_type": "code",
      "metadata": {
        "colab": {
          "base_uri": "https://localhost:8080/",
          "height": 181
        },
        "id": "2fvB2bv_2MTM",
        "outputId": "09f75d0c-1f47-4fc4-a820-e795082383fd"
      },
      "source": [
        "crop_string = predicted_crop[0]\r\n",
        "\r\n",
        "final_df = additional_info[additional_info['Crops'].str.contains(crop_string)]\r\n",
        "\r\n",
        "fertilisers =final_df['Fertilisers required'].values[0]\r\n",
        "cost_of_cultivation = final_df['Cost of cultivation'].values[0]\r\n",
        "expected_revenues = final_df['Expected revenues'].values[0]\r\n",
        "seeds_required = final_df['Quantity of seeds per hectare'].values[0]\r\n",
        "duration_cultivation = final_df['Duration of cultivation'].values[0]\r\n",
        "mixed_cropping = final_df['Crops for mixed cropping'].values[0]\r\n",
        "\r\n",
        "final_df"
      ],
      "execution_count": null,
      "outputs": [
        {
          "output_type": "execute_result",
          "data": {
            "text/html": [
              "<div>\n",
              "<style scoped>\n",
              "    .dataframe tbody tr th:only-of-type {\n",
              "        vertical-align: middle;\n",
              "    }\n",
              "\n",
              "    .dataframe tbody tr th {\n",
              "        vertical-align: top;\n",
              "    }\n",
              "\n",
              "    .dataframe thead th {\n",
              "        text-align: right;\n",
              "    }\n",
              "</style>\n",
              "<table border=\"1\" class=\"dataframe\">\n",
              "  <thead>\n",
              "    <tr style=\"text-align: right;\">\n",
              "      <th></th>\n",
              "      <th>Crops</th>\n",
              "      <th>Fertilisers required</th>\n",
              "      <th>Cost of cultivation</th>\n",
              "      <th>Expected revenues</th>\n",
              "      <th>Quantity of seeds per hectare</th>\n",
              "      <th>Duration of cultivation</th>\n",
              "      <th>Demand of crop</th>\n",
              "      <th>Crops for mixed cropping</th>\n",
              "    </tr>\n",
              "  </thead>\n",
              "  <tbody>\n",
              "    <tr>\n",
              "      <th>18</th>\n",
              "      <td>Tea</td>\n",
              "      <td>UT 752,Dolomite</td>\n",
              "      <td>5,023</td>\n",
              "      <td>353763</td>\n",
              "      <td>1650kg</td>\n",
              "      <td>60-65</td>\n",
              "      <td>High</td>\n",
              "      <td>Cocoa, Coffee, Rubber</td>\n",
              "    </tr>\n",
              "  </tbody>\n",
              "</table>\n",
              "</div>"
            ],
            "text/plain": [
              "   Crops Fertilisers required  ... Demand of crop Crops for mixed cropping\n",
              "18   Tea      UT 752,Dolomite  ...           High    Cocoa, Coffee, Rubber\n",
              "\n",
              "[1 rows x 8 columns]"
            ]
          },
          "metadata": {
            "tags": []
          },
          "execution_count": 26
        }
      ]
    },
    {
      "cell_type": "code",
      "metadata": {
        "colab": {
          "base_uri": "https://localhost:8080/"
        },
        "id": "y0A9mSlt4qYi",
        "outputId": "f29c90ff-94a7-4299-cf68-4f6aa72b04a8"
      },
      "source": [
        "print(\"Most Suitable Crop to Grow is :\", crop_string)\r\n",
        "print(\"The Fertilisers that are required is/are :\", fertilisers)\r\n",
        "print(\"Cost of Cultivation will be : Rs.\", cost_of_cultivation)\r\n",
        "print(\"Expected Revenues : Rs.\", expected_revenues )\r\n",
        "print(\"Quantity of Seeds Required per Hectare : \", seeds_required)\r\n",
        "print(\"Expected Duration of Cultivation :\", duration_cultivation, \" Days\")\r\n",
        "print(\"Optional Crop(s) for Mixed Cropping is/are :\", mixed_cropping)"
      ],
      "execution_count": null,
      "outputs": [
        {
          "output_type": "stream",
          "text": [
            "Most Suitable Crop to Grow is : Tea\n",
            "The Fertilisers that are required is/are : UT 752,Dolomite\n",
            "Cost of Cultivation will be : Rs. 5,023\n",
            "Expected Revenues : Rs. 353763\n",
            "Quantity of Seeds Required per Hectare :  1650kg\n",
            "Expected Duration of Cultivation : 60-65  Days\n",
            "Optional Crop(s) for Mixed Cropping is/are : Cocoa, Coffee, Rubber\n"
          ],
          "name": "stdout"
        }
      ]
    }
  ]
}